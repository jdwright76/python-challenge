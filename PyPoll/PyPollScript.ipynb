{
 "cells": [
  {
   "cell_type": "code",
   "execution_count": 294,
   "metadata": {},
   "outputs": [],
   "source": [
    "import os\n",
    "import csv"
   ]
  },
  {
   "cell_type": "code",
   "execution_count": 295,
   "metadata": {},
   "outputs": [],
   "source": [
    "pollpath = os.path.join(\"Resources\", \"election_data.csv\")"
   ]
  },
  {
   "cell_type": "code",
   "execution_count": 307,
   "metadata": {},
   "outputs": [],
   "source": [
    "votes = 0\n",
    "vote_count = 0\n"
   ]
  },
  {
   "cell_type": "code",
   "execution_count": 308,
   "metadata": {},
   "outputs": [],
   "source": [
    "candidate_list = []\n",
    "votes_dict = {}\n",
    "percent_dict = {}"
   ]
  },
  {
   "cell_type": "code",
   "execution_count": 309,
   "metadata": {},
   "outputs": [
    {
     "name": "stdout",
     "output_type": "stream",
     "text": [
      "3521001\n",
      "{'Khan': 2218231, 'Correy': 704200, 'Li': 492940, \"O'Tooley\": 105630}\n",
      "{'Khan': 63.00001050837531, 'Correy': 19.999994319797125, 'Li': 13.999996023857989, \"O'Tooley\": 2.999999147969569}\n"
     ]
    }
   ],
   "source": [
    "with open(pollpath) as csvfile:\n",
    "    csvreader = csv.reader(csvfile)\n",
    "    header = next(csvreader)\n",
    "    for row in csvreader:\n",
    "        candidate = row[2]\n",
    "        votes = votes + 1\n",
    "        if candidate not in votes_dict:\n",
    "            candidate_list.append(candidate)\n",
    "            votes_dict[candidate] = 0\n",
    "        votes_dict[candidate] = votes_dict[candidate] + 1\n",
    "        #vote_percent = (votes_dict[candidate] / votes) * 100\n",
    "    \n",
    "    for candidate in votes_dict:\n",
    "        vote_count = votes_dict.get(candidate)   \n",
    "        can_percent = (float(vote_count)/float(votes)) * 100\n",
    "        percent_dict[candidate] = can_percent\n",
    "   \n",
    "        \n",
    "    print(votes)\n",
    "    print(votes_dict)\n",
    "    print(percent_dict)"
   ]
  },
  {
   "cell_type": "code",
   "execution_count": 291,
   "metadata": {},
   "outputs": [],
   "source": [
    "for candidate in votes_dict:\n",
    "        vote_count = votes_dict.get(candidate)"
   ]
  },
  {
   "cell_type": "code",
   "execution_count": 292,
   "metadata": {},
   "outputs": [
    {
     "name": "stdout",
     "output_type": "stream",
     "text": [
      "2.999999147969569\n"
     ]
    }
   ],
   "source": [
    "can_percent = (float(vote_count)/float(votes)) * 100\n",
    "\n",
    "print(can_percent)"
   ]
  },
  {
   "cell_type": "code",
   "execution_count": null,
   "metadata": {},
   "outputs": [],
   "source": []
  },
  {
   "cell_type": "code",
   "execution_count": 242,
   "metadata": {},
   "outputs": [],
   "source": []
  },
  {
   "cell_type": "code",
   "execution_count": 243,
   "metadata": {},
   "outputs": [],
   "source": []
  },
  {
   "cell_type": "code",
   "execution_count": null,
   "metadata": {},
   "outputs": [],
   "source": []
  }
 ],
 "metadata": {
  "kernelspec": {
   "display_name": "Python 3",
   "language": "python",
   "name": "python3"
  },
  "language_info": {
   "codemirror_mode": {
    "name": "ipython",
    "version": 3
   },
   "file_extension": ".py",
   "mimetype": "text/x-python",
   "name": "python",
   "nbconvert_exporter": "python",
   "pygments_lexer": "ipython3",
   "version": "3.7.1"
  }
 },
 "nbformat": 4,
 "nbformat_minor": 2
}
